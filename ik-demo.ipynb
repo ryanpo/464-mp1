{
 "cells": [
  {
   "cell_type": "markdown",
   "metadata": {},
   "source": [
    "<h1>Inverse Kinematics Demo</h1>"
   ]
  },
  {
   "cell_type": "markdown",
   "metadata": {},
   "source": [
    "This demo file demonstrates how to use the code to perform inverse kinematics on a model, the actual code being run is situated in the file common/IK.py.\n",
    "\n",
    "Unfortunately since this is done in python, the actual code is quite slow, and also not interactive. In order to see the results, you would have to load the output BVH files on the software of your choice."
   ]
  },
  {
   "cell_type": "code",
   "execution_count": 16,
   "metadata": {},
   "outputs": [],
   "source": [
    "import os\n",
    "import argparse\n",
    "import numpy as np\n",
    "import torch\n",
    "import sys\n",
    "sys.path.append('common')\n",
    "from IK import *\n",
    "from BVH import load, save\n",
    "from ForwardKinematics import *\n",
    "from Quaternions import *\n",
    "from IPython.display import HTML"
   ]
  },
  {
   "cell_type": "markdown",
   "metadata": {},
   "source": [
    "<h2>Part I: Loading the Data</h2>"
   ]
  },
  {
   "cell_type": "code",
   "execution_count": 10,
   "metadata": {},
   "outputs": [],
   "source": [
    "# Load Base File (should be BVH file with a single frame)\n",
    "src_path = 'data/Walking_01.bvh'\n",
    "dst_path = 'output/'\n",
    "os.makedirs(dst_path, exist_ok=True)\n",
    "anim, joint_names, frame_time, order = load(src_path)"
   ]
  },
  {
   "cell_type": "markdown",
   "metadata": {},
   "source": [
    "<h2>Part II: Setting Parameters for IK</h2>"
   ]
  },
  {
   "cell_type": "code",
   "execution_count": 11,
   "metadata": {},
   "outputs": [],
   "source": [
    "# Set ik parameters here\n",
    "\n",
    "# target_positions\n",
    "t_poses = [np.array([30.0,10.0,10.0])]\n",
    "\n",
    "# target joints\n",
    "t_joints = [\"LeftHand\"]\n",
    "\n",
    "# number of iterations\n",
    "iters = 300\n",
    "\n",
    "# index of unchanged joints\n",
    "uc = [0,1,2,3]\n",
    "\n",
    "# learning rate (0.0001 for transpose and 0.1 for psuedo inverse works best)\n",
    "rate = 0.0001\n",
    "\n",
    "# analytical or numerical jacobian\n",
    "mode = 'analytical'\n",
    "#mode = 'numerical'"
   ]
  },
  {
   "cell_type": "markdown",
   "metadata": {},
   "source": [
    "<h2>Part III: Running IK</h2>"
   ]
  },
  {
   "cell_type": "code",
   "execution_count": 12,
   "metadata": {},
   "outputs": [
    {
     "name": "stdout",
     "output_type": "stream",
     "text": [
      "zyx\n"
     ]
    }
   ],
   "source": [
    "# ik_t for tranpose, ik_pi for pseudo-inverse\n",
    "out, ret_eulers = ik_t(anim, joint_names, t_joints, t_poses, order, fk, N = iters, no_change = uc, rate = rate)\n",
    "#out, ret_eulers = ik_pi(anim, joint_names, t_joints, t_poses, order, fk, N = iters, no_change = uc, rate = rate)"
   ]
  },
  {
   "cell_type": "markdown",
   "metadata": {},
   "source": [
    "<h2>Part IV: Saving Results</h2>"
   ]
  },
  {
   "cell_type": "code",
   "execution_count": 14,
   "metadata": {},
   "outputs": [
    {
     "name": "stdout",
     "output_type": "stream",
     "text": [
      "xyz\n"
     ]
    }
   ],
   "source": [
    "save(os.path.join('output', 'walking_left_hand_limit.bvh'), anim, np.degrees(ret_eulers), joint_names, frame_time, order)  "
   ]
  },
  {
   "cell_type": "markdown",
   "metadata": {},
   "source": [
    "<h2>Part V: Load and Display Results</h2>"
   ]
  },
  {
   "cell_type": "code",
   "execution_count": 22,
   "metadata": {},
   "outputs": [
    {
     "data": {
      "text/html": [
       "\n",
       "<video width=\"600\" height=\"460\" controls=\"\">\n",
       "<source src=\"output/lefthandlimit.mov\">\n",
       "</video>\n"
      ],
      "text/plain": [
       "<IPython.core.display.HTML object>"
      ]
     },
     "execution_count": 22,
     "metadata": {},
     "output_type": "execute_result"
    }
   ],
   "source": [
    "video_path = 'output/lefthandlimit.mov'\n",
    "\n",
    "HTML(\"\"\"\n",
    "<video width=\"600\" height=\"460\" controls=\"\">\n",
    "<source src=\"{0}\">\n",
    "</video>\n",
    "\"\"\".format(video_path))"
   ]
  },
  {
   "cell_type": "code",
   "execution_count": null,
   "metadata": {},
   "outputs": [],
   "source": []
  }
 ],
 "metadata": {
  "kernelspec": {
   "display_name": "Python 3",
   "language": "python",
   "name": "python3"
  },
  "language_info": {
   "codemirror_mode": {
    "name": "ipython",
    "version": 3
   },
   "file_extension": ".py",
   "mimetype": "text/x-python",
   "name": "python",
   "nbconvert_exporter": "python",
   "pygments_lexer": "ipython3",
   "version": "3.7.4"
  }
 },
 "nbformat": 4,
 "nbformat_minor": 2
}
