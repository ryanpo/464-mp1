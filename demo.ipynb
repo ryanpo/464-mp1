{
 "cells": [
  {
   "cell_type": "markdown",
   "metadata": {},
   "source": [
    "# Assignment 1. Traditional Animation\n",
    "\n",
    "This is the start code for miniproject 1. Please refer to the [course website](http://graphics.cs.cmu.edu/nsp/course/15464-s19/www/assignments/miniProject1.htm) for instructions.\n",
    "\n",
    "## Part I. Set up environment\n",
    "- Python3.7: [https://www.anaconda.com/distribution/](https://www.anaconda.com/distribution/)\n",
    "- ffmpeg: [https://www.ffmpeg.org/download.html](https://www.ffmpeg.org/download.html)"
   ]
  },
  {
   "cell_type": "markdown",
   "metadata": {},
   "source": [
    "## Part II. Understand data\n",
    "Sample motions are given under data folder in BVH format. BVH format has two parts, i.e. skeleton hierarchy and motion. $\\bf{HIERARCHY}$ section defines joint names, joint relationship, degree of freedoms, and the order of euler angles. $\\bf{MOTION}$ section defines number of frames, frame time interval, and the value for each degree of freedoms per joint per frame. Here is one simplified example of bvh file:\n",
    "```\n",
    "HIERARCHY\n",
    "ROOT Hips\n",
    "{\n",
    "\tOFFSET 0.000000 0.000000 0.000000\n",
    "\tCHANNELS 6 Xposition Yposition Zposition Zrotation Yrotation Xrotation \n",
    "\tJOINT Spine\n",
    "\t{\n",
    "\t\tOFFSET 0.000000 10.000000 0.000000\n",
    "\t\tCHANNELS 3 Zrotation Yrotation Xrotation\n",
    "\t\tEnd Site\n",
    "\t\t{\n",
    "\t\t\tOFFSET 0.000000 10.000000 0.000000\n",
    "\t\t} \n",
    "\t}\n",
    "}\n",
    "MOTION\n",
    "Frames: 2\n",
    "Frame Time: 0.033333\n",
    "0 0 0 0 0 0 0 0 0\n",
    "0 0 0 0 0 0 0 0 90\n",
    "```\n",
    "\n",
    "In $\\bf{HIERARCHY}$ section, we could read\n",
    "- Joint names: There are three joints, \"Hips\", \"Spine\", and an end site. \n",
    "- Joint relationship (tree structure): \"Hips\" is the parent joint of \"Spine\", and \"Spine\" is the parent joint of the end site. \n",
    "- Degree of freedoms: \"Hips\" has 6 degree of freedom (i.e. 6 channels).\n",
    "- Order of Euler angle: The order of rotations channels is the order or euler angle. Here, the euler angle order is ZYX, i.e. $v'=R_ZR_YR_Xv$\n",
    "\n",
    "In $\\bf{MOTION}$ section, we could read\n",
    "- Number of frames: 2\n",
    "- Frame time interval: 0.033333, i.e. 30 fps\n",
    "- Motion data for each degree of frame per frame: There are 2 lines and each line represent one time frame. The visualization of these two frames look like\n",
    "\n",
    "![alt text](data/Simple.jpg)"
   ]
  },
  {
   "cell_type": "markdown",
   "metadata": {},
   "source": [
    "## Part III. Load and save BVH files\n",
    "We have already provided start code to load and save bvh files"
   ]
  },
  {
   "cell_type": "code",
   "execution_count": 2,
   "metadata": {},
   "outputs": [],
   "source": [
    "import os\n",
    "import argparse\n",
    "import numpy as np\n",
    "\n",
    "import sys\n",
    "sys.path.append('common')\n",
    "from BVH import load, save\n",
    "\n",
    "src_path = 'data/Samba_Dancing.bvh'\n",
    "dst_path = 'output/'\n",
    "os.makedirs(dst_path, exist_ok=True)\n",
    "\n",
    "anim, joint_names, frame_time, order = load(src_path)                              # Load data from bvh file\n",
    "save(os.path.join('output', 'output.bvh'), anim, joint_names, frame_time, order)   # Save data to bvh file"
   ]
  },
  {
   "cell_type": "markdown",
   "metadata": {},
   "source": [
    "anim is an instance of Animation class, which defines orients, offsets, translations, and rotations. Denote the number of frames as $F$, number of joint as $J$, then the dimension for each variables are:\n",
    "- orients: (J, Quaternion). Quaternion is class defined under common/Quaternions.py.\n",
    "- offsets: (J, 3)\n",
    "- positions: (F, J, 3)\n",
    "- rotations: (F, J, Quaternion)\n",
    "\n",
    "We can check the shape of each variable as follows:"
   ]
  },
  {
   "cell_type": "code",
   "execution_count": 3,
   "metadata": {},
   "outputs": [
    {
     "data": {
      "text/plain": [
       "(67, 4)"
      ]
     },
     "execution_count": 3,
     "metadata": {},
     "output_type": "execute_result"
    }
   ],
   "source": [
    "anim.orients.qs.shape"
   ]
  },
  {
   "cell_type": "code",
   "execution_count": 4,
   "metadata": {},
   "outputs": [
    {
     "data": {
      "text/plain": [
       "(67, 3)"
      ]
     },
     "execution_count": 4,
     "metadata": {},
     "output_type": "execute_result"
    }
   ],
   "source": [
    "anim.offsets.shape"
   ]
  },
  {
   "cell_type": "code",
   "execution_count": 5,
   "metadata": {},
   "outputs": [
    {
     "data": {
      "text/plain": [
       "(324, 67, 3)"
      ]
     },
     "execution_count": 5,
     "metadata": {},
     "output_type": "execute_result"
    }
   ],
   "source": [
    "anim.positions.shape"
   ]
  },
  {
   "cell_type": "code",
   "execution_count": 6,
   "metadata": {},
   "outputs": [
    {
     "data": {
      "text/plain": [
       "(324, 67, 4)"
      ]
     },
     "execution_count": 6,
     "metadata": {},
     "output_type": "execute_result"
    }
   ],
   "source": [
    "anim.rotations.qs.shape"
   ]
  },
  {
   "cell_type": "code",
   "execution_count": 8,
   "metadata": {},
   "outputs": [
    {
     "data": {
      "text/plain": [
       "['Hips',\n",
       " 'Spine',\n",
       " 'Spine1',\n",
       " 'Spine2',\n",
       " 'Neck',\n",
       " 'Head',\n",
       " 'HeadTop_End',\n",
       " 'LeftEye',\n",
       " 'RightEye',\n",
       " 'LeftShoulder']"
      ]
     },
     "execution_count": 8,
     "metadata": {},
     "output_type": "execute_result"
    }
   ],
   "source": [
    "joint_names[0:10]"
   ]
  },
  {
   "cell_type": "markdown",
   "metadata": {},
   "source": [
    "### Practice: What shall we do to read the data for \"LeftShoulder\"?\n",
    "### Solution:"
   ]
  },
  {
   "cell_type": "code",
   "execution_count": 7,
   "metadata": {},
   "outputs": [
    {
     "name": "stdout",
     "output_type": "stream",
     "text": [
      "LeftShoulder id 9\n",
      "Frame 0 [ 0.99726561  0.00877797 -0.05641605 -0.04691997]\n",
      "Frame 1 [ 0.99738512  0.00882779 -0.06070663 -0.03820599]\n"
     ]
    }
   ],
   "source": [
    "left_shoulder_id = joint_names.index(\"LeftShoulder\")\n",
    "print('LeftShoulder id', left_shoulder_id)\n",
    "lshoulder_rotations = anim.rotations[:, left_shoulder_id]\n",
    "print('Frame 0', lshoulder_rotations.qs[0])    # (w, x, y, z)\n",
    "print('Frame 1', lshoulder_rotations.qs[1])"
   ]
  },
  {
   "cell_type": "markdown",
   "metadata": {},
   "source": [
    "## Part IV. Visualize data\n",
    "\n",
    "You could always import BVH files in softwares such as Maya, Unity, Motion Builder. We also provided code to visualize motion data to mp4 files for an easy checkup. Make sure you have installed ffmpeg before running visualization."
   ]
  },
  {
   "cell_type": "code",
   "execution_count": 8,
   "metadata": {},
   "outputs": [],
   "source": [
    "import os\n",
    "import argparse\n",
    "import numpy as np\n",
    "\n",
    "import sys\n",
    "sys.path.append('common')\n",
    "from Visualize import visualize_anim\n",
    "\n",
    "name = os.path.basename(src_path).split('.')[0]\n",
    "visualize_anim(anim, title=None, img_dir=os.path.join(dst_path, name), multi_view=False,\n",
    "               video_path=os.path.join(dst_path, name + \".mp4\"))"
   ]
  },
  {
   "cell_type": "code",
   "execution_count": 9,
   "metadata": {},
   "outputs": [
    {
     "data": {
      "text/html": [
       "<video controls  >\n",
       " <source src=\"data:None;base64,output/Samba_Dancing_3d.mp4\" type=\"None\">\n",
       " Your browser does not support the video tag.\n",
       " </video>"
      ],
      "text/plain": [
       "<IPython.core.display.Video object>"
      ]
     },
     "execution_count": 9,
     "metadata": {},
     "output_type": "execute_result"
    }
   ],
   "source": [
    "from IPython.display import Video\n",
    "Video(os.path.join(dst_path, name + \"_3d\" + \".mp4\"), embed=True)"
   ]
  },
  {
   "cell_type": "markdown",
   "metadata": {},
   "source": [
    "### Reference:\n",
    "- Holden, D., Komura, T., & Saito, J. (2017). Phase-functioned neural networks for character control. ACM Transactions on Graphics (TOG), 36(4), 42.\n",
    "- https://research.cs.wisc.edu/graphics/Courses/cs-838-1999/Jeff/BVH.html"
   ]
  }
 ],
 "metadata": {
  "kernelspec": {
   "display_name": "Python 3",
   "language": "python",
   "name": "python3"
  },
  "language_info": {
   "codemirror_mode": {
    "name": "ipython",
    "version": 3
   },
   "file_extension": ".py",
   "mimetype": "text/x-python",
   "name": "python",
   "nbconvert_exporter": "python",
   "pygments_lexer": "ipython3",
   "version": "3.7.4"
  }
 },
 "nbformat": 4,
 "nbformat_minor": 2
}
